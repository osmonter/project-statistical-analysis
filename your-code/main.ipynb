{
 "cells": [
  {
   "cell_type": "markdown",
   "metadata": {},
   "source": [
    "## Importación Datasheet y Data Manipulation"
   ]
  },
  {
   "cell_type": "code",
   "execution_count": 3,
   "metadata": {
    "ExecuteTime": {
     "end_time": "2020-03-29T00:06:34.558383Z",
     "start_time": "2020-03-29T00:06:26.358018Z"
    }
   },
   "outputs": [],
   "source": [
    "import numpy as np\n",
    "import pandas as pd\n",
    "import sqlite3\n",
    "import matplotlib.pyplot as plt\n",
    "import scipy as sp\n",
    "from scipy import stats\n",
    "import math"
   ]
  },
  {
   "cell_type": "code",
   "execution_count": 4,
   "metadata": {
    "ExecuteTime": {
     "end_time": "2020-03-29T00:06:36.595869Z",
     "start_time": "2020-03-29T00:06:34.578601Z"
    }
   },
   "outputs": [
    {
     "name": "stderr",
     "output_type": "stream",
     "text": [
      "/Library/Frameworks/Python.framework/Versions/3.8/lib/python3.8/site-packages/IPython/core/interactiveshell.py:3057: DtypeWarning: Columns (37,73,74,108) have mixed types. Specify dtype option on import or set low_memory=False.\n",
      "  has_raised = await self.run_ast_nodes(code_ast.body, cell_name,\n"
     ]
    },
    {
     "data": {
      "text/html": [
       "<div>\n",
       "<style scoped>\n",
       "    .dataframe tbody tr th:only-of-type {\n",
       "        vertical-align: middle;\n",
       "    }\n",
       "\n",
       "    .dataframe tbody tr th {\n",
       "        vertical-align: top;\n",
       "    }\n",
       "\n",
       "    .dataframe thead th {\n",
       "        text-align: right;\n",
       "    }\n",
       "</style>\n",
       "<table border=\"1\" class=\"dataframe\">\n",
       "  <thead>\n",
       "    <tr style=\"text-align: right;\">\n",
       "      <th></th>\n",
       "      <th>Season</th>\n",
       "      <th>Datetime</th>\n",
       "      <th>Div</th>\n",
       "      <th>Country</th>\n",
       "      <th>League</th>\n",
       "      <th>Referee</th>\n",
       "      <th>HomeTeam</th>\n",
       "      <th>AwayTeam</th>\n",
       "      <th>FTHG</th>\n",
       "      <th>FTAG</th>\n",
       "      <th>...</th>\n",
       "      <th>VCCD</th>\n",
       "      <th>VCCH</th>\n",
       "      <th>VCD</th>\n",
       "      <th>VCH</th>\n",
       "      <th>WHA</th>\n",
       "      <th>WHCA</th>\n",
       "      <th>WHCD</th>\n",
       "      <th>WHCH</th>\n",
       "      <th>WHD</th>\n",
       "      <th>WHH</th>\n",
       "    </tr>\n",
       "  </thead>\n",
       "  <tbody>\n",
       "    <tr>\n",
       "      <th>0</th>\n",
       "      <td>2019/2020</td>\n",
       "      <td>2020-03-11 19:45:00</td>\n",
       "      <td>SC0</td>\n",
       "      <td>Scotland</td>\n",
       "      <td>Premier League</td>\n",
       "      <td>A Muir</td>\n",
       "      <td>St Mirren</td>\n",
       "      <td>Hearts</td>\n",
       "      <td>1</td>\n",
       "      <td>0</td>\n",
       "      <td>...</td>\n",
       "      <td>3.30</td>\n",
       "      <td>3.40</td>\n",
       "      <td>3.3</td>\n",
       "      <td>3.00</td>\n",
       "      <td>2.40</td>\n",
       "      <td>2.20</td>\n",
       "      <td>3.3</td>\n",
       "      <td>3.30</td>\n",
       "      <td>3.3</td>\n",
       "      <td>2.90</td>\n",
       "    </tr>\n",
       "    <tr>\n",
       "      <th>1</th>\n",
       "      <td>2019/2020</td>\n",
       "      <td>2020-03-11 17:30:00</td>\n",
       "      <td>D1</td>\n",
       "      <td>Germany</td>\n",
       "      <td>Bundesliga 1</td>\n",
       "      <td>NaN</td>\n",
       "      <td>M'gladbach</td>\n",
       "      <td>FC Koln</td>\n",
       "      <td>2</td>\n",
       "      <td>1</td>\n",
       "      <td>...</td>\n",
       "      <td>3.90</td>\n",
       "      <td>1.95</td>\n",
       "      <td>4.2</td>\n",
       "      <td>1.80</td>\n",
       "      <td>4.00</td>\n",
       "      <td>3.75</td>\n",
       "      <td>3.8</td>\n",
       "      <td>1.91</td>\n",
       "      <td>4.2</td>\n",
       "      <td>1.78</td>\n",
       "    </tr>\n",
       "    <tr>\n",
       "      <th>2</th>\n",
       "      <td>2019/2020</td>\n",
       "      <td>2020-03-11 17:00:00</td>\n",
       "      <td>T1</td>\n",
       "      <td>Turkey</td>\n",
       "      <td>Futbol Ligi 1</td>\n",
       "      <td>NaN</td>\n",
       "      <td>Yeni Malatyaspor</td>\n",
       "      <td>Trabzonspor</td>\n",
       "      <td>1</td>\n",
       "      <td>3</td>\n",
       "      <td>...</td>\n",
       "      <td>4.00</td>\n",
       "      <td>3.75</td>\n",
       "      <td>3.7</td>\n",
       "      <td>3.30</td>\n",
       "      <td>2.05</td>\n",
       "      <td>1.83</td>\n",
       "      <td>3.9</td>\n",
       "      <td>3.70</td>\n",
       "      <td>3.7</td>\n",
       "      <td>3.20</td>\n",
       "    </tr>\n",
       "    <tr>\n",
       "      <th>3</th>\n",
       "      <td>2019/2020</td>\n",
       "      <td>2020-03-10 19:45:00</td>\n",
       "      <td>E2</td>\n",
       "      <td>England</td>\n",
       "      <td>League 1</td>\n",
       "      <td>S Stockbridge</td>\n",
       "      <td>Blackpool</td>\n",
       "      <td>Tranmere</td>\n",
       "      <td>1</td>\n",
       "      <td>2</td>\n",
       "      <td>...</td>\n",
       "      <td>3.90</td>\n",
       "      <td>1.65</td>\n",
       "      <td>3.8</td>\n",
       "      <td>1.67</td>\n",
       "      <td>5.00</td>\n",
       "      <td>5.25</td>\n",
       "      <td>3.7</td>\n",
       "      <td>1.67</td>\n",
       "      <td>3.8</td>\n",
       "      <td>1.67</td>\n",
       "    </tr>\n",
       "    <tr>\n",
       "      <th>4</th>\n",
       "      <td>2019/2020</td>\n",
       "      <td>2020-03-10 19:45:00</td>\n",
       "      <td>EC</td>\n",
       "      <td>England</td>\n",
       "      <td>Conference</td>\n",
       "      <td>J Bell</td>\n",
       "      <td>Woking</td>\n",
       "      <td>Barnet</td>\n",
       "      <td>1</td>\n",
       "      <td>3</td>\n",
       "      <td>...</td>\n",
       "      <td>3.25</td>\n",
       "      <td>2.80</td>\n",
       "      <td>3.3</td>\n",
       "      <td>2.80</td>\n",
       "      <td>2.55</td>\n",
       "      <td>2.60</td>\n",
       "      <td>3.2</td>\n",
       "      <td>2.70</td>\n",
       "      <td>3.3</td>\n",
       "      <td>2.70</td>\n",
       "    </tr>\n",
       "  </tbody>\n",
       "</table>\n",
       "<p>5 rows × 172 columns</p>\n",
       "</div>"
      ],
      "text/plain": [
       "      Season             Datetime  Div   Country          League  \\\n",
       "0  2019/2020  2020-03-11 19:45:00  SC0  Scotland  Premier League   \n",
       "1  2019/2020  2020-03-11 17:30:00   D1   Germany    Bundesliga 1   \n",
       "2  2019/2020  2020-03-11 17:00:00   T1    Turkey   Futbol Ligi 1   \n",
       "3  2019/2020  2020-03-10 19:45:00   E2   England        League 1   \n",
       "4  2019/2020  2020-03-10 19:45:00   EC   England      Conference   \n",
       "\n",
       "         Referee          HomeTeam     AwayTeam  FTHG  FTAG  ...  VCCD  VCCH  \\\n",
       "0         A Muir         St Mirren       Hearts     1     0  ...  3.30  3.40   \n",
       "1            NaN        M'gladbach      FC Koln     2     1  ...  3.90  1.95   \n",
       "2            NaN  Yeni Malatyaspor  Trabzonspor     1     3  ...  4.00  3.75   \n",
       "3  S Stockbridge         Blackpool     Tranmere     1     2  ...  3.90  1.65   \n",
       "4         J Bell            Woking       Barnet     1     3  ...  3.25  2.80   \n",
       "\n",
       "   VCD   VCH   WHA  WHCA  WHCD  WHCH  WHD   WHH  \n",
       "0  3.3  3.00  2.40  2.20   3.3  3.30  3.3  2.90  \n",
       "1  4.2  1.80  4.00  3.75   3.8  1.91  4.2  1.78  \n",
       "2  3.7  3.30  2.05  1.83   3.9  3.70  3.7  3.20  \n",
       "3  3.8  1.67  5.00  5.25   3.7  1.67  3.8  1.67  \n",
       "4  3.3  2.80  2.55  2.60   3.2  2.70  3.3  2.70  \n",
       "\n",
       "[5 rows x 172 columns]"
      ]
     },
     "execution_count": 4,
     "metadata": {},
     "output_type": "execute_result"
    }
   ],
   "source": [
    "matches = pd.read_csv('matches.csv', sep = ',')\n",
    "matches.head()"
   ]
  },
  {
   "cell_type": "markdown",
   "metadata": {},
   "source": [
    "**Selecciono las columnas más útiles para el posterior análisis**"
   ]
  },
  {
   "cell_type": "markdown",
   "metadata": {},
   "source": [
    "- Season\n",
    "- Country\n",
    "- League\n",
    "- HomeTeam\n",
    "- AwayTeam\n",
    "- FTHG - Full Time Home Goals\n",
    "- FTAG - Full Time Away Goals\n",
    "- FTR - Full Time Result\n",
    "- HTHG - Half Time Home Goals\n",
    "- HTAG - Half Time Away Goals\n",
    "- HTR - Half Time Results"
   ]
  },
  {
   "cell_type": "code",
   "execution_count": 5,
   "metadata": {
    "ExecuteTime": {
     "end_time": "2020-03-29T00:06:38.892840Z",
     "start_time": "2020-03-29T00:06:38.868184Z"
    }
   },
   "outputs": [
    {
     "data": {
      "text/html": [
       "<div>\n",
       "<style scoped>\n",
       "    .dataframe tbody tr th:only-of-type {\n",
       "        vertical-align: middle;\n",
       "    }\n",
       "\n",
       "    .dataframe tbody tr th {\n",
       "        vertical-align: top;\n",
       "    }\n",
       "\n",
       "    .dataframe thead th {\n",
       "        text-align: right;\n",
       "    }\n",
       "</style>\n",
       "<table border=\"1\" class=\"dataframe\">\n",
       "  <thead>\n",
       "    <tr style=\"text-align: right;\">\n",
       "      <th></th>\n",
       "      <th>Season</th>\n",
       "      <th>Country</th>\n",
       "      <th>League</th>\n",
       "      <th>HomeTeam</th>\n",
       "      <th>AwayTeam</th>\n",
       "      <th>FTHG</th>\n",
       "      <th>FTAG</th>\n",
       "      <th>FTR</th>\n",
       "      <th>HTHG</th>\n",
       "      <th>HTAG</th>\n",
       "      <th>HTR</th>\n",
       "    </tr>\n",
       "  </thead>\n",
       "  <tbody>\n",
       "    <tr>\n",
       "      <th>0</th>\n",
       "      <td>2019/2020</td>\n",
       "      <td>Scotland</td>\n",
       "      <td>Premier League</td>\n",
       "      <td>St Mirren</td>\n",
       "      <td>Hearts</td>\n",
       "      <td>1</td>\n",
       "      <td>0</td>\n",
       "      <td>H</td>\n",
       "      <td>0</td>\n",
       "      <td>0</td>\n",
       "      <td>D</td>\n",
       "    </tr>\n",
       "    <tr>\n",
       "      <th>1</th>\n",
       "      <td>2019/2020</td>\n",
       "      <td>Germany</td>\n",
       "      <td>Bundesliga 1</td>\n",
       "      <td>M'gladbach</td>\n",
       "      <td>FC Koln</td>\n",
       "      <td>2</td>\n",
       "      <td>1</td>\n",
       "      <td>H</td>\n",
       "      <td>1</td>\n",
       "      <td>0</td>\n",
       "      <td>H</td>\n",
       "    </tr>\n",
       "    <tr>\n",
       "      <th>2</th>\n",
       "      <td>2019/2020</td>\n",
       "      <td>Turkey</td>\n",
       "      <td>Futbol Ligi 1</td>\n",
       "      <td>Yeni Malatyaspor</td>\n",
       "      <td>Trabzonspor</td>\n",
       "      <td>1</td>\n",
       "      <td>3</td>\n",
       "      <td>A</td>\n",
       "      <td>1</td>\n",
       "      <td>2</td>\n",
       "      <td>A</td>\n",
       "    </tr>\n",
       "    <tr>\n",
       "      <th>3</th>\n",
       "      <td>2019/2020</td>\n",
       "      <td>England</td>\n",
       "      <td>League 1</td>\n",
       "      <td>Blackpool</td>\n",
       "      <td>Tranmere</td>\n",
       "      <td>1</td>\n",
       "      <td>2</td>\n",
       "      <td>A</td>\n",
       "      <td>0</td>\n",
       "      <td>2</td>\n",
       "      <td>A</td>\n",
       "    </tr>\n",
       "    <tr>\n",
       "      <th>4</th>\n",
       "      <td>2019/2020</td>\n",
       "      <td>England</td>\n",
       "      <td>Conference</td>\n",
       "      <td>Woking</td>\n",
       "      <td>Barnet</td>\n",
       "      <td>1</td>\n",
       "      <td>3</td>\n",
       "      <td>A</td>\n",
       "      <td>0</td>\n",
       "      <td>1</td>\n",
       "      <td>A</td>\n",
       "    </tr>\n",
       "  </tbody>\n",
       "</table>\n",
       "</div>"
      ],
      "text/plain": [
       "      Season   Country          League          HomeTeam     AwayTeam  FTHG  \\\n",
       "0  2019/2020  Scotland  Premier League         St Mirren       Hearts     1   \n",
       "1  2019/2020   Germany    Bundesliga 1        M'gladbach      FC Koln     2   \n",
       "2  2019/2020    Turkey   Futbol Ligi 1  Yeni Malatyaspor  Trabzonspor     1   \n",
       "3  2019/2020   England        League 1         Blackpool     Tranmere     1   \n",
       "4  2019/2020   England      Conference            Woking       Barnet     1   \n",
       "\n",
       "   FTAG FTR  HTHG  HTAG HTR  \n",
       "0     0   H     0     0   D  \n",
       "1     1   H     1     0   H  \n",
       "2     3   A     1     2   A  \n",
       "3     2   A     0     2   A  \n",
       "4     3   A     0     1   A  "
      ]
     },
     "execution_count": 5,
     "metadata": {},
     "output_type": "execute_result"
    }
   ],
   "source": [
    "matches = matches[[\"Season\",\"Country\",\"League\",\"HomeTeam\",\"AwayTeam\",\"FTHG\", \"FTAG\", \"FTR\", \"HTHG\", \"HTAG\", \"HTR\"]]\n",
    "matches.head()"
   ]
  },
  {
   "cell_type": "code",
   "execution_count": 7,
   "metadata": {
    "ExecuteTime": {
     "end_time": "2020-03-29T00:07:03.479247Z",
     "start_time": "2020-03-29T00:07:03.472882Z"
    }
   },
   "outputs": [
    {
     "data": {
      "text/plain": [
       "(177764, 11)"
      ]
     },
     "execution_count": 7,
     "metadata": {},
     "output_type": "execute_result"
    }
   ],
   "source": [
    "matches.shape"
   ]
  },
  {
   "cell_type": "code",
   "execution_count": 8,
   "metadata": {
    "ExecuteTime": {
     "end_time": "2020-03-29T00:07:05.604413Z",
     "start_time": "2020-03-29T00:07:05.547043Z"
    }
   },
   "outputs": [
    {
     "data": {
      "text/plain": [
       "Season          0\n",
       "Country         0\n",
       "League          0\n",
       "HomeTeam     1046\n",
       "AwayTeam     1046\n",
       "FTHG            0\n",
       "FTAG            0\n",
       "FTR             4\n",
       "HTHG            0\n",
       "HTAG            0\n",
       "HTR         33462\n",
       "dtype: int64"
      ]
     },
     "execution_count": 8,
     "metadata": {},
     "output_type": "execute_result"
    }
   ],
   "source": [
    "matches.isnull().sum()"
   ]
  },
  {
   "cell_type": "markdown",
   "metadata": {},
   "source": [
    "**Trabajaremos nuestro estudio sobre la Liga Primera División en España.**"
   ]
  },
  {
   "cell_type": "code",
   "execution_count": 9,
   "metadata": {
    "ExecuteTime": {
     "end_time": "2020-03-29T00:07:06.786500Z",
     "start_time": "2020-03-29T00:07:06.745112Z"
    }
   },
   "outputs": [
    {
     "data": {
      "text/html": [
       "<div>\n",
       "<style scoped>\n",
       "    .dataframe tbody tr th:only-of-type {\n",
       "        vertical-align: middle;\n",
       "    }\n",
       "\n",
       "    .dataframe tbody tr th {\n",
       "        vertical-align: top;\n",
       "    }\n",
       "\n",
       "    .dataframe thead th {\n",
       "        text-align: right;\n",
       "    }\n",
       "</style>\n",
       "<table border=\"1\" class=\"dataframe\">\n",
       "  <thead>\n",
       "    <tr style=\"text-align: right;\">\n",
       "      <th></th>\n",
       "      <th>Season</th>\n",
       "      <th>Country</th>\n",
       "      <th>League</th>\n",
       "      <th>HomeTeam</th>\n",
       "      <th>AwayTeam</th>\n",
       "      <th>FTHG</th>\n",
       "      <th>FTAG</th>\n",
       "      <th>FTR</th>\n",
       "      <th>HTHG</th>\n",
       "      <th>HTAG</th>\n",
       "      <th>HTR</th>\n",
       "    </tr>\n",
       "  </thead>\n",
       "  <tbody>\n",
       "    <tr>\n",
       "      <th>17</th>\n",
       "      <td>2019/2020</td>\n",
       "      <td>Spain</td>\n",
       "      <td>La Liga Primera Division</td>\n",
       "      <td>Eibar</td>\n",
       "      <td>Sociedad</td>\n",
       "      <td>1</td>\n",
       "      <td>2</td>\n",
       "      <td>A</td>\n",
       "      <td>0</td>\n",
       "      <td>1</td>\n",
       "      <td>A</td>\n",
       "    </tr>\n",
       "    <tr>\n",
       "      <th>43</th>\n",
       "      <td>2019/2020</td>\n",
       "      <td>Spain</td>\n",
       "      <td>La Liga Primera Division</td>\n",
       "      <td>Betis</td>\n",
       "      <td>Real Madrid</td>\n",
       "      <td>2</td>\n",
       "      <td>1</td>\n",
       "      <td>H</td>\n",
       "      <td>1</td>\n",
       "      <td>1</td>\n",
       "      <td>D</td>\n",
       "    </tr>\n",
       "    <tr>\n",
       "      <th>49</th>\n",
       "      <td>2019/2020</td>\n",
       "      <td>Spain</td>\n",
       "      <td>La Liga Primera Division</td>\n",
       "      <td>Villarreal</td>\n",
       "      <td>Leganes</td>\n",
       "      <td>1</td>\n",
       "      <td>2</td>\n",
       "      <td>A</td>\n",
       "      <td>1</td>\n",
       "      <td>0</td>\n",
       "      <td>H</td>\n",
       "    </tr>\n",
       "    <tr>\n",
       "      <th>65</th>\n",
       "      <td>2019/2020</td>\n",
       "      <td>Spain</td>\n",
       "      <td>La Liga Primera Division</td>\n",
       "      <td>Levante</td>\n",
       "      <td>Granada</td>\n",
       "      <td>1</td>\n",
       "      <td>1</td>\n",
       "      <td>D</td>\n",
       "      <td>1</td>\n",
       "      <td>0</td>\n",
       "      <td>H</td>\n",
       "    </tr>\n",
       "    <tr>\n",
       "      <th>85</th>\n",
       "      <td>2019/2020</td>\n",
       "      <td>Spain</td>\n",
       "      <td>La Liga Primera Division</td>\n",
       "      <td>Valladolid</td>\n",
       "      <td>Ath Bilbao</td>\n",
       "      <td>1</td>\n",
       "      <td>4</td>\n",
       "      <td>A</td>\n",
       "      <td>0</td>\n",
       "      <td>2</td>\n",
       "      <td>A</td>\n",
       "    </tr>\n",
       "  </tbody>\n",
       "</table>\n",
       "</div>"
      ],
      "text/plain": [
       "       Season Country                    League    HomeTeam     AwayTeam  \\\n",
       "17  2019/2020   Spain  La Liga Primera Division       Eibar     Sociedad   \n",
       "43  2019/2020   Spain  La Liga Primera Division       Betis  Real Madrid   \n",
       "49  2019/2020   Spain  La Liga Primera Division  Villarreal      Leganes   \n",
       "65  2019/2020   Spain  La Liga Primera Division     Levante      Granada   \n",
       "85  2019/2020   Spain  La Liga Primera Division  Valladolid   Ath Bilbao   \n",
       "\n",
       "    FTHG  FTAG FTR  HTHG  HTAG HTR  \n",
       "17     1     2   A     0     1   A  \n",
       "43     2     1   H     1     1   D  \n",
       "49     1     2   A     1     0   H  \n",
       "65     1     1   D     1     0   H  \n",
       "85     1     4   A     0     2   A  "
      ]
     },
     "execution_count": 9,
     "metadata": {},
     "output_type": "execute_result"
    }
   ],
   "source": [
    "matches_spain = matches[(matches[\"League\"] == \"La Liga Primera Division\")]\n",
    "matches_spain.head()"
   ]
  },
  {
   "cell_type": "markdown",
   "metadata": {},
   "source": [
    "**Para nuestro estudio posterior, añadimos columna con el Total Goles en cada partido.**"
   ]
  },
  {
   "cell_type": "code",
   "execution_count": 10,
   "metadata": {
    "ExecuteTime": {
     "end_time": "2020-03-29T00:07:07.722239Z",
     "start_time": "2020-03-29T00:07:07.669704Z"
    }
   },
   "outputs": [
    {
     "name": "stderr",
     "output_type": "stream",
     "text": [
      "<ipython-input-10-d46dfb25bcbd>:3: SettingWithCopyWarning: \n",
      "A value is trying to be set on a copy of a slice from a DataFrame.\n",
      "Try using .loc[row_indexer,col_indexer] = value instead\n",
      "\n",
      "See the caveats in the documentation: http://pandas.pydata.org/pandas-docs/stable/user_guide/indexing.html#returning-a-view-versus-a-copy\n",
      "  matches_spain[\"total_goals\"] = matches_spain[\"FTHG\"] + matches_spain[\"FTAG\"]\n"
     ]
    },
    {
     "data": {
      "text/html": [
       "<div>\n",
       "<style scoped>\n",
       "    .dataframe tbody tr th:only-of-type {\n",
       "        vertical-align: middle;\n",
       "    }\n",
       "\n",
       "    .dataframe tbody tr th {\n",
       "        vertical-align: top;\n",
       "    }\n",
       "\n",
       "    .dataframe thead th {\n",
       "        text-align: right;\n",
       "    }\n",
       "</style>\n",
       "<table border=\"1\" class=\"dataframe\">\n",
       "  <thead>\n",
       "    <tr style=\"text-align: right;\">\n",
       "      <th></th>\n",
       "      <th>Season</th>\n",
       "      <th>Country</th>\n",
       "      <th>League</th>\n",
       "      <th>HomeTeam</th>\n",
       "      <th>AwayTeam</th>\n",
       "      <th>FTHG</th>\n",
       "      <th>FTAG</th>\n",
       "      <th>FTR</th>\n",
       "      <th>HTHG</th>\n",
       "      <th>HTAG</th>\n",
       "      <th>HTR</th>\n",
       "      <th>total_goals</th>\n",
       "    </tr>\n",
       "  </thead>\n",
       "  <tbody>\n",
       "    <tr>\n",
       "      <th>17</th>\n",
       "      <td>2019/2020</td>\n",
       "      <td>Spain</td>\n",
       "      <td>La Liga Primera Division</td>\n",
       "      <td>Eibar</td>\n",
       "      <td>Sociedad</td>\n",
       "      <td>1</td>\n",
       "      <td>2</td>\n",
       "      <td>A</td>\n",
       "      <td>0</td>\n",
       "      <td>1</td>\n",
       "      <td>A</td>\n",
       "      <td>3</td>\n",
       "    </tr>\n",
       "    <tr>\n",
       "      <th>43</th>\n",
       "      <td>2019/2020</td>\n",
       "      <td>Spain</td>\n",
       "      <td>La Liga Primera Division</td>\n",
       "      <td>Betis</td>\n",
       "      <td>Real Madrid</td>\n",
       "      <td>2</td>\n",
       "      <td>1</td>\n",
       "      <td>H</td>\n",
       "      <td>1</td>\n",
       "      <td>1</td>\n",
       "      <td>D</td>\n",
       "      <td>3</td>\n",
       "    </tr>\n",
       "    <tr>\n",
       "      <th>49</th>\n",
       "      <td>2019/2020</td>\n",
       "      <td>Spain</td>\n",
       "      <td>La Liga Primera Division</td>\n",
       "      <td>Villarreal</td>\n",
       "      <td>Leganes</td>\n",
       "      <td>1</td>\n",
       "      <td>2</td>\n",
       "      <td>A</td>\n",
       "      <td>1</td>\n",
       "      <td>0</td>\n",
       "      <td>H</td>\n",
       "      <td>3</td>\n",
       "    </tr>\n",
       "    <tr>\n",
       "      <th>65</th>\n",
       "      <td>2019/2020</td>\n",
       "      <td>Spain</td>\n",
       "      <td>La Liga Primera Division</td>\n",
       "      <td>Levante</td>\n",
       "      <td>Granada</td>\n",
       "      <td>1</td>\n",
       "      <td>1</td>\n",
       "      <td>D</td>\n",
       "      <td>1</td>\n",
       "      <td>0</td>\n",
       "      <td>H</td>\n",
       "      <td>2</td>\n",
       "    </tr>\n",
       "    <tr>\n",
       "      <th>85</th>\n",
       "      <td>2019/2020</td>\n",
       "      <td>Spain</td>\n",
       "      <td>La Liga Primera Division</td>\n",
       "      <td>Valladolid</td>\n",
       "      <td>Ath Bilbao</td>\n",
       "      <td>1</td>\n",
       "      <td>4</td>\n",
       "      <td>A</td>\n",
       "      <td>0</td>\n",
       "      <td>2</td>\n",
       "      <td>A</td>\n",
       "      <td>5</td>\n",
       "    </tr>\n",
       "  </tbody>\n",
       "</table>\n",
       "</div>"
      ],
      "text/plain": [
       "       Season Country                    League    HomeTeam     AwayTeam  \\\n",
       "17  2019/2020   Spain  La Liga Primera Division       Eibar     Sociedad   \n",
       "43  2019/2020   Spain  La Liga Primera Division       Betis  Real Madrid   \n",
       "49  2019/2020   Spain  La Liga Primera Division  Villarreal      Leganes   \n",
       "65  2019/2020   Spain  La Liga Primera Division     Levante      Granada   \n",
       "85  2019/2020   Spain  La Liga Primera Division  Valladolid   Ath Bilbao   \n",
       "\n",
       "    FTHG  FTAG FTR  HTHG  HTAG HTR  total_goals  \n",
       "17     1     2   A     0     1   A            3  \n",
       "43     2     1   H     1     1   D            3  \n",
       "49     1     2   A     1     0   H            3  \n",
       "65     1     1   D     1     0   H            2  \n",
       "85     1     4   A     0     2   A            5  "
      ]
     },
     "execution_count": 10,
     "metadata": {},
     "output_type": "execute_result"
    }
   ],
   "source": [
    "# Añadimos numero de goles totales a nuestro dataset de Worldcup\n",
    "\n",
    "matches_spain[\"total_goals\"] = matches_spain[\"FTHG\"] + matches_spain[\"FTAG\"]\n",
    "\n",
    "matches_spain.head()"
   ]
  },
  {
   "cell_type": "markdown",
   "metadata": {
    "ExecuteTime": {
     "end_time": "2020-03-27T18:57:50.005408Z",
     "start_time": "2020-03-27T18:57:50.002735Z"
    }
   },
   "source": [
    "## Summarizing Quantitative Data - Measuring center"
   ]
  },
  {
   "cell_type": "markdown",
   "metadata": {
    "ExecuteTime": {
     "end_time": "2020-03-27T19:25:00.767692Z",
     "start_time": "2020-03-27T19:25:00.761831Z"
    }
   },
   "source": [
    "### Total - ¿Cuántos goles se han marcado en cada temporada?"
   ]
  },
  {
   "cell_type": "code",
   "execution_count": 11,
   "metadata": {
    "ExecuteTime": {
     "end_time": "2020-03-29T00:07:08.752043Z",
     "start_time": "2020-03-29T00:07:08.741292Z"
    }
   },
   "outputs": [
    {
     "name": "stdout",
     "output_type": "stream",
     "text": [
      "Season\n",
      "2000/2001    1095\n",
      "2001/2002     961\n",
      "2002/2003    1016\n",
      "2003/2004    1015\n",
      "2004/2005     693\n",
      "2005/2006     936\n",
      "2006/2007     942\n",
      "2007/2008    1021\n",
      "2008/2009    1101\n",
      "2009/2010    1031\n",
      "2010/2011    1042\n",
      "2011/2012    1050\n",
      "2012/2013    1091\n",
      "2013/2014    1045\n",
      "2014/2015    1009\n",
      "2015/2016    1043\n",
      "2016/2017    1118\n",
      "2017/2018    1024\n",
      "2018/2019     983\n",
      "2019/2020     685\n",
      "Name: total_goals, dtype: int64\n"
     ]
    }
   ],
   "source": [
    "season_goals_total = matches_spain.groupby('Season').total_goals.sum()\n",
    "print(season_goals_total)"
   ]
  },
  {
   "cell_type": "code",
   "execution_count": 12,
   "metadata": {
    "ExecuteTime": {
     "end_time": "2020-03-29T00:07:09.452914Z",
     "start_time": "2020-03-29T00:07:08.993723Z"
    }
   },
   "outputs": [
    {
     "data": {
      "image/png": "[encoded data removed]",
      "text/plain": [
       "<Figure size 1080x576 with 1 Axes>"
      ]
     },
     "metadata": {
      "needs_background": "light"
     },
     "output_type": "display_data"
    }
   ],
   "source": [
    "plt.figure(figsize = (15,8))\n",
    "\n",
    "ax = season_goals_total.plot(kind = 'bar')\n",
    "ax.set_title('Número Goles por Temporada', fontsize = 20)\n",
    "ax.set_xlabel('Temporada', fontsize = 20)\n",
    "ax.set_ylabel('Número Goles', fontsize = 20)\n",
    "plt.xticks(fontsize = 15, rotation = 45)\n",
    "plt.yticks(fontsize = 15)\n",
    "plt.show()"
   ]
  },
  {
   "cell_type": "markdown",
   "metadata": {},
   "source": [
    "### Mean   - ¿Cuál es la media de goles por partido desde temporada 1999/2000 hasta temporada 2019/2020?"
   ]
  },
  {
   "cell_type": "markdown",
   "metadata": {
    "ExecuteTime": {
     "end_time": "2020-03-27T16:33:30.997933Z",
     "start_time": "2020-03-27T16:33:30.955669Z"
    }
   },
   "source": [
    "**Mean or Average is calculated as sum of all numbers in the dataset and dividing by the total number of values.**"
   ]
  },
  {
   "cell_type": "code",
   "execution_count": 13,
   "metadata": {
    "ExecuteTime": {
     "end_time": "2020-03-29T00:07:09.965596Z",
     "start_time": "2020-03-29T00:07:09.958915Z"
    }
   },
   "outputs": [
    {
     "name": "stdout",
     "output_type": "stream",
     "text": [
      "La media de goles por partido es:  2.7\n"
     ]
    }
   ],
   "source": [
    "total_goals_mean = matches_spain.total_goals.mean()\n",
    "print(\"La media de goles por partido es: \", round(total_goals_mean,2))"
   ]
  },
  {
   "cell_type": "markdown",
   "metadata": {
    "ExecuteTime": {
     "end_time": "2020-03-27T19:31:28.178321Z",
     "start_time": "2020-03-27T19:31:28.174698Z"
    }
   },
   "source": [
    "### Median - ¿Cuál es la mediana de goles por partido desde temporada 1999/2000 hasta 2019/2020?"
   ]
  },
  {
   "cell_type": "code",
   "execution_count": 14,
   "metadata": {
    "ExecuteTime": {
     "end_time": "2020-03-29T00:07:10.625539Z",
     "start_time": "2020-03-29T00:07:10.618712Z"
    }
   },
   "outputs": [
    {
     "name": "stdout",
     "output_type": "stream",
     "text": [
      "La mediana de goles por partido es:  3.0\n"
     ]
    }
   ],
   "source": [
    "season_goals_median = matches_spain.total_goals.median()\n",
    "print(\"La mediana de goles por partido es: \", season_goals_median)"
   ]
  },
  {
   "cell_type": "markdown",
   "metadata": {},
   "source": [
    "Vemos como la mediana es ligeramente superior a la media, ya que no se ve afectada por los valores extremos o outliers"
   ]
  },
  {
   "cell_type": "markdown",
   "metadata": {},
   "source": [
    "### Mode - ¿Cuál es el número total de goles que más se repite en un partido?"
   ]
  },
  {
   "cell_type": "code",
   "execution_count": 15,
   "metadata": {
    "ExecuteTime": {
     "end_time": "2020-03-29T00:07:11.516431Z",
     "start_time": "2020-03-29T00:07:11.510524Z"
    }
   },
   "outputs": [
    {
     "name": "stdout",
     "output_type": "stream",
     "text": [
      "El número total de goles que más se repite, o moda, es:  0    2\n",
      "dtype: int64\n"
     ]
    }
   ],
   "source": [
    "season_goals_mode = matches_spain.total_goals.mode()\n",
    "print(\"El número total de goles que más se repite, o moda, es: \", season_goals_mode)"
   ]
  },
  {
   "cell_type": "markdown",
   "metadata": {},
   "source": [
    "(El resultado sería 2 goles por partido, no sé por qué me sale ese 0 delante)."
   ]
  },
  {
   "cell_type": "markdown",
   "metadata": {
    "ExecuteTime": {
     "end_time": "2020-03-27T21:45:21.703621Z",
     "start_time": "2020-03-27T21:45:21.699186Z"
    }
   },
   "source": [
    "## Summarizing Quantitative data - Measuring Spread"
   ]
  },
  {
   "cell_type": "markdown",
   "metadata": {},
   "source": [
    "Tras haber repasado cómo de centrado están los valores relativos al número de goles, vamos a revisar cómo están de dispersos dichos valores."
   ]
  },
  {
   "cell_type": "markdown",
   "metadata": {},
   "source": [
    "### Range - ¿Cuál es la diferencia entre el partido con mayor y menor número de goles?"
   ]
  },
  {
   "cell_type": "code",
   "execution_count": 16,
   "metadata": {
    "ExecuteTime": {
     "end_time": "2020-03-29T00:07:15.873767Z",
     "start_time": "2020-03-29T00:07:15.867629Z"
    }
   },
   "outputs": [
    {
     "name": "stdout",
     "output_type": "stream",
     "text": [
      "Mayor número de goles en un partido:  12\n",
      "Menor número de goles en un partido:  0\n",
      "Diferencia de goles entre partido con mayor número de goles y menos:  12\n"
     ]
    }
   ],
   "source": [
    "total_goals_max = matches_spain.total_goals.max()\n",
    "total_goals_min = matches_spain.total_goals.min()\n",
    "total_goals_range = total_goals_max - total_goals_min\n",
    "\n",
    "print(\"Mayor número de goles en un partido: \", total_goals_max)\n",
    "print(\"Menor número de goles en un partido: \", total_goals_min)\n",
    "print(\"Diferencia de goles entre partido con mayor número de goles y menos: \", total_goals_range)\n"
   ]
  },
  {
   "cell_type": "markdown",
   "metadata": {},
   "source": [
    "### Percentiles"
   ]
  },
  {
   "cell_type": "code",
   "execution_count": 17,
   "metadata": {
    "ExecuteTime": {
     "end_time": "2020-03-29T00:07:17.009769Z",
     "start_time": "2020-03-29T00:07:17.002474Z"
    },
    "code_folding": []
   },
   "outputs": [
    {
     "data": {
      "text/plain": [
       "array([1., 3., 4.])"
      ]
     },
     "execution_count": 17,
     "metadata": {},
     "output_type": "execute_result"
    }
   ],
   "source": [
    "np.percentile(matches_spain.total_goals, [25, 50, 75])"
   ]
  },
  {
   "cell_type": "markdown",
   "metadata": {},
   "source": [
    "- 25th percentile = 1 → 25% de los partidos han tenido menos de 1 gol.\n",
    "- 75th percentile = 4 → 75% de los partidos han tenido menos de 4 goles."
   ]
  },
  {
   "cell_type": "markdown",
   "metadata": {
    "ExecuteTime": {
     "end_time": "2020-03-27T22:06:30.281761Z",
     "start_time": "2020-03-27T22:06:30.276850Z"
    }
   },
   "source": [
    "### Boxplot"
   ]
  },
  {
   "cell_type": "markdown",
   "metadata": {},
   "source": [
    "Visualizaremos en un gráfico las diferentes métricas que hemos obtenido relativas al total de número de goles desde la temporada 1999/2000 hasta la actualidad."
   ]
  },
  {
   "cell_type": "code",
   "execution_count": 18,
   "metadata": {
    "ExecuteTime": {
     "end_time": "2020-03-29T00:07:19.411939Z",
     "start_time": "2020-03-29T00:07:18.569071Z"
    }
   },
   "outputs": [
    {
     "data": {
      "image/png": "[encoded data removed]",
      "text/plain": [
       "<Figure size 432x288 with 1 Axes>"
      ]
     },
     "metadata": {
      "needs_background": "light"
     },
     "output_type": "display_data"
    }
   ],
   "source": [
    "import seaborn as sns\n",
    "\n",
    "_ = sns.boxplot(x = 'League', y = 'total_goals', data = matches_spain)\n",
    "_ = plt.ylabel('Número de goles')\n",
    "plt.show()"
   ]
  },
  {
   "cell_type": "markdown",
   "metadata": {
    "ExecuteTime": {
     "end_time": "2020-03-28T12:15:17.831203Z",
     "start_time": "2020-03-28T12:15:17.828115Z"
    }
   },
   "source": [
    "### Standard Deviation"
   ]
  },
  {
   "cell_type": "code",
   "execution_count": 19,
   "metadata": {
    "ExecuteTime": {
     "end_time": "2020-03-29T00:07:20.162734Z",
     "start_time": "2020-03-29T00:07:20.155724Z"
    }
   },
   "outputs": [
    {
     "data": {
      "text/plain": [
       "1.69"
      ]
     },
     "execution_count": 19,
     "metadata": {},
     "output_type": "execute_result"
    }
   ],
   "source": [
    "round(np.std(matches_spain.total_goals),2)"
   ]
  },
  {
   "cell_type": "markdown",
   "metadata": {
    "ExecuteTime": {
     "end_time": "2020-03-28T12:15:59.740783Z",
     "start_time": "2020-03-28T12:15:59.705922Z"
    }
   },
   "source": [
    "- La media del total de goles (2.7) tiene una desviación estándar de 1.69.\n",
    "- Es decir la dispersión del número total de goles será 2.7  ±  1.69"
   ]
  },
  {
   "cell_type": "markdown",
   "metadata": {},
   "source": [
    "### Histograma - Distribución de goles por partido"
   ]
  },
  {
   "cell_type": "code",
   "execution_count": 20,
   "metadata": {
    "ExecuteTime": {
     "end_time": "2020-03-29T00:07:21.671314Z",
     "start_time": "2020-03-29T00:07:21.487236Z"
    }
   },
   "outputs": [
    {
     "data": {
      "image/png": "[encoded data removed]",
      "text/plain": [
       "<Figure size 432x288 with 1 Axes>"
      ]
     },
     "metadata": {
      "needs_background": "light"
     },
     "output_type": "display_data"
    }
   ],
   "source": [
    "_ = plt.hist(matches_spain['total_goals'])\n",
    "_ = plt.xlabel('Número goles/partido')\n",
    "_ = plt.ylabel('Número partidos')\n",
    "plt.show()"
   ]
  },
  {
   "cell_type": "markdown",
   "metadata": {},
   "source": [
    "## Análisis Goles Equipo Local vs Goles Equipo Visitante"
   ]
  },
  {
   "cell_type": "markdown",
   "metadata": {},
   "source": [
    "### Mean - Goles Equipo Local vs Goles Equipo Visitante"
   ]
  },
  {
   "cell_type": "code",
   "execution_count": 21,
   "metadata": {
    "ExecuteTime": {
     "end_time": "2020-03-29T00:07:25.207528Z",
     "start_time": "2020-03-29T00:07:23.584589Z"
    }
   },
   "outputs": [
    {
     "data": {
      "image/png": "[encoded data removed]",
      "text/plain": [
       "<Figure size 432x288 with 1 Axes>"
      ]
     },
     "metadata": {
      "needs_background": "light"
     },
     "output_type": "display_data"
    }
   ],
   "source": [
    "sns.pointplot(x=matches_spain.Season, y=matches_spain.FTHG, data=matches_spain, color='blue', alpha=0.8)\n",
    "sns.pointplot(x=matches_spain.Season, y=matches_spain.FTAG, data=matches_spain, color='red', alpha=0.8)\n",
    "\n",
    "plt.text(20,1.1,'Media Goles Equipo Local',color='red',fontsize = 10,style = 'italic')\n",
    "plt.text(20,1.6,'Media Goles Equipo Visitante',color='blue',fontsize = 10,style = 'italic')\n",
    "\n",
    "plt.xlabel('Temporada',fontsize = 15)\n",
    "plt.xticks(rotation=45)\n",
    "\n",
    "plt.ylabel('Media Goles',fontsize = 15)\n",
    "\n",
    "plt.title('Media Goles Equipo Local vs Goles Equipo Visitante',fontsize = 15)\n",
    "\n",
    "plt.show()"
   ]
  },
  {
   "cell_type": "markdown",
   "metadata": {},
   "source": [
    "**Gráficamente, vemos como la media de goles de los equipos que juegan como local ha sido superior a la media de goles de los equipos que juegan como visitante**"
   ]
  },
  {
   "cell_type": "markdown",
   "metadata": {},
   "source": [
    "### Correlación"
   ]
  },
  {
   "cell_type": "code",
   "execution_count": 22,
   "metadata": {
    "ExecuteTime": {
     "end_time": "2020-03-29T00:07:29.128890Z",
     "start_time": "2020-03-29T00:07:29.111722Z"
    }
   },
   "outputs": [
    {
     "data": {
      "text/html": [
       "<div>\n",
       "<style scoped>\n",
       "    .dataframe tbody tr th:only-of-type {\n",
       "        vertical-align: middle;\n",
       "    }\n",
       "\n",
       "    .dataframe tbody tr th {\n",
       "        vertical-align: top;\n",
       "    }\n",
       "\n",
       "    .dataframe thead th {\n",
       "        text-align: right;\n",
       "    }\n",
       "</style>\n",
       "<table border=\"1\" class=\"dataframe\">\n",
       "  <thead>\n",
       "    <tr style=\"text-align: right;\">\n",
       "      <th></th>\n",
       "      <th>FTHG</th>\n",
       "      <th>FTAG</th>\n",
       "      <th>HTHG</th>\n",
       "      <th>HTAG</th>\n",
       "      <th>total_goals</th>\n",
       "    </tr>\n",
       "  </thead>\n",
       "  <tbody>\n",
       "    <tr>\n",
       "      <th>FTHG</th>\n",
       "      <td>1.000000</td>\n",
       "      <td>-0.050374</td>\n",
       "      <td>0.688846</td>\n",
       "      <td>-0.002941</td>\n",
       "      <td>0.746045</td>\n",
       "    </tr>\n",
       "    <tr>\n",
       "      <th>FTAG</th>\n",
       "      <td>-0.050374</td>\n",
       "      <td>1.000000</td>\n",
       "      <td>-0.039938</td>\n",
       "      <td>0.689239</td>\n",
       "      <td>0.627469</td>\n",
       "    </tr>\n",
       "    <tr>\n",
       "      <th>HTHG</th>\n",
       "      <td>0.688846</td>\n",
       "      <td>-0.039938</td>\n",
       "      <td>1.000000</td>\n",
       "      <td>-0.023808</td>\n",
       "      <td>0.510417</td>\n",
       "    </tr>\n",
       "    <tr>\n",
       "      <th>HTAG</th>\n",
       "      <td>-0.002941</td>\n",
       "      <td>0.689239</td>\n",
       "      <td>-0.023808</td>\n",
       "      <td>1.000000</td>\n",
       "      <td>0.457252</td>\n",
       "    </tr>\n",
       "    <tr>\n",
       "      <th>total_goals</th>\n",
       "      <td>0.746045</td>\n",
       "      <td>0.627469</td>\n",
       "      <td>0.510417</td>\n",
       "      <td>0.457252</td>\n",
       "      <td>1.000000</td>\n",
       "    </tr>\n",
       "  </tbody>\n",
       "</table>\n",
       "</div>"
      ],
      "text/plain": [
       "                 FTHG      FTAG      HTHG      HTAG  total_goals\n",
       "FTHG         1.000000 -0.050374  0.688846 -0.002941     0.746045\n",
       "FTAG        -0.050374  1.000000 -0.039938  0.689239     0.627469\n",
       "HTHG         0.688846 -0.039938  1.000000 -0.023808     0.510417\n",
       "HTAG        -0.002941  0.689239 -0.023808  1.000000     0.457252\n",
       "total_goals  0.746045  0.627469  0.510417  0.457252     1.000000"
      ]
     },
     "execution_count": 22,
     "metadata": {},
     "output_type": "execute_result"
    }
   ],
   "source": [
    "matches_spain.corr()"
   ]
  },
  {
   "cell_type": "code",
   "execution_count": 23,
   "metadata": {
    "ExecuteTime": {
     "end_time": "2020-03-29T00:07:29.751592Z",
     "start_time": "2020-03-29T00:07:29.502170Z"
    }
   },
   "outputs": [
    {
     "data": {
      "image/png": "[encoded data removed]",
      "text/plain": [
       "<Figure size 432x288 with 2 Axes>"
      ]
     },
     "metadata": {
      "needs_background": "light"
     },
     "output_type": "display_data"
    }
   ],
   "source": [
    "sns.heatmap(matches_spain.corr(),annot=True)\n",
    "plt.show()"
   ]
  },
  {
   "cell_type": "markdown",
   "metadata": {
    "ExecuteTime": {
     "end_time": "2020-03-28T22:34:56.634029Z",
     "start_time": "2020-03-28T22:34:56.399010Z"
    }
   },
   "source": [
    "**Vemos como la correlación entre el número de goles marcados como equipo local (FTHG) y el total de goles es mayor que la correlación entre goles marcados como equipo visitante (FTAG( y el total de goles.**"
   ]
  },
  {
   "cell_type": "markdown",
   "metadata": {},
   "source": [
    "### Coeficiente Correlación Pearson - Goles Local / Goles Totales"
   ]
  },
  {
   "cell_type": "code",
   "execution_count": 24,
   "metadata": {
    "ExecuteTime": {
     "end_time": "2020-03-29T00:07:32.832152Z",
     "start_time": "2020-03-29T00:07:32.824923Z"
    }
   },
   "outputs": [
    {
     "name": "stdout",
     "output_type": "stream",
     "text": [
      "0.75\n"
     ]
    }
   ],
   "source": [
    "corr_mat = np.corrcoef(matches_spain.FTHG, matches_spain.total_goals)\n",
    "\n",
    "r_pearson = corr_mat[0,1]\n",
    "print(round(r_pearson,2))"
   ]
  },
  {
   "cell_type": "markdown",
   "metadata": {},
   "source": [
    "## Hypothesis Testing - ¿Equipo local gana el partido si en el descanso va empatando o perdiendo?"
   ]
  },
  {
   "cell_type": "markdown",
   "metadata": {},
   "source": [
    "Estamos viendo que los equipos que juegan como local marcan más goles. Queremos saber cómo de importante es jugar en casa de cara a remontar un partido, es decir, si al descanso va empate o perdiendo, cómo influye jugar en casa para terminar ganando al final del partido gracias al empuje adicional que pueden darte tus aficionados."
   ]
  },
  {
   "cell_type": "markdown",
   "metadata": {},
   "source": [
    "**Null Hypothesis - Jugar como equipo local es indiferente de cara a ganar el partido si al descanso va perdiendo o empatando.**"
   ]
  },
  {
   "cell_type": "code",
   "execution_count": 25,
   "metadata": {
    "ExecuteTime": {
     "end_time": "2020-03-29T00:07:35.494327Z",
     "start_time": "2020-03-29T00:07:35.442261Z"
    }
   },
   "outputs": [
    {
     "name": "stderr",
     "output_type": "stream",
     "text": [
      "<ipython-input-25-2f466fedcde2>:1: SettingWithCopyWarning: \n",
      "A value is trying to be set on a copy of a slice from a DataFrame.\n",
      "Try using .loc[row_indexer,col_indexer] = value instead\n",
      "\n",
      "See the caveats in the documentation: http://pandas.pydata.org/pandas-docs/stable/user_guide/indexing.html#returning-a-view-versus-a-copy\n",
      "  matches_spain['home_team_win_HT'] = np.zeros\n",
      "<ipython-input-25-2f466fedcde2>:2: SettingWithCopyWarning: \n",
      "A value is trying to be set on a copy of a slice from a DataFrame.\n",
      "Try using .loc[row_indexer,col_indexer] = value instead\n",
      "\n",
      "See the caveats in the documentation: http://pandas.pydata.org/pandas-docs/stable/user_guide/indexing.html#returning-a-view-versus-a-copy\n",
      "  matches_spain['home_team_win_FT'] = np.zeros\n",
      "/Library/Frameworks/Python.framework/Versions/3.8/lib/python3.8/site-packages/pandas/core/indexing.py:205: SettingWithCopyWarning: \n",
      "A value is trying to be set on a copy of a slice from a DataFrame\n",
      "\n",
      "See the caveats in the documentation: http://pandas.pydata.org/pandas-docs/stable/user_guide/indexing.html#returning-a-view-versus-a-copy\n",
      "  self._setitem_with_indexer(indexer, value)\n",
      "<ipython-input-25-2f466fedcde2>:7: SettingWithCopyWarning: \n",
      "A value is trying to be set on a copy of a slice from a DataFrame\n",
      "\n",
      "See the caveats in the documentation: http://pandas.pydata.org/pandas-docs/stable/user_guide/indexing.html#returning-a-view-versus-a-copy\n",
      "  matches_spain['home_team_win_HT'].loc[matches_spain['HTHG'] > matches_spain['HTAG']] = 1\n",
      "<ipython-input-25-2f466fedcde2>:9: SettingWithCopyWarning: \n",
      "A value is trying to be set on a copy of a slice from a DataFrame\n",
      "\n",
      "See the caveats in the documentation: http://pandas.pydata.org/pandas-docs/stable/user_guide/indexing.html#returning-a-view-versus-a-copy\n",
      "  matches_spain['home_team_win_HT'].loc[matches_spain['HTHG'] < matches_spain['HTAG']] = 0\n",
      "<ipython-input-25-2f466fedcde2>:11: SettingWithCopyWarning: \n",
      "A value is trying to be set on a copy of a slice from a DataFrame\n",
      "\n",
      "See the caveats in the documentation: http://pandas.pydata.org/pandas-docs/stable/user_guide/indexing.html#returning-a-view-versus-a-copy\n",
      "  matches_spain['home_team_win_HT'].loc[matches_spain['HTHG'] == matches_spain['HTAG']] = 0\n",
      "<ipython-input-25-2f466fedcde2>:16: SettingWithCopyWarning: \n",
      "A value is trying to be set on a copy of a slice from a DataFrame\n",
      "\n",
      "See the caveats in the documentation: http://pandas.pydata.org/pandas-docs/stable/user_guide/indexing.html#returning-a-view-versus-a-copy\n",
      "  matches_spain['home_team_win_FT'].loc[matches_spain['FTHG'] < matches_spain['FTAG']] = 1\n",
      "<ipython-input-25-2f466fedcde2>:18: SettingWithCopyWarning: \n",
      "A value is trying to be set on a copy of a slice from a DataFrame\n",
      "\n",
      "See the caveats in the documentation: http://pandas.pydata.org/pandas-docs/stable/user_guide/indexing.html#returning-a-view-versus-a-copy\n",
      "  matches_spain['home_team_win_FT'].loc[matches_spain['FTHG'] > matches_spain['FTAG']] = 0\n",
      "<ipython-input-25-2f466fedcde2>:20: SettingWithCopyWarning: \n",
      "A value is trying to be set on a copy of a slice from a DataFrame\n",
      "\n",
      "See the caveats in the documentation: http://pandas.pydata.org/pandas-docs/stable/user_guide/indexing.html#returning-a-view-versus-a-copy\n",
      "  matches_spain['home_team_win_FT'].loc[matches_spain['FTHG'] == matches_spain['FTAG']] = 0\n"
     ]
    },
    {
     "data": {
      "text/html": [
       "<div>\n",
       "<style scoped>\n",
       "    .dataframe tbody tr th:only-of-type {\n",
       "        vertical-align: middle;\n",
       "    }\n",
       "\n",
       "    .dataframe tbody tr th {\n",
       "        vertical-align: top;\n",
       "    }\n",
       "\n",
       "    .dataframe thead th {\n",
       "        text-align: right;\n",
       "    }\n",
       "</style>\n",
       "<table border=\"1\" class=\"dataframe\">\n",
       "  <thead>\n",
       "    <tr style=\"text-align: right;\">\n",
       "      <th></th>\n",
       "      <th>Season</th>\n",
       "      <th>Country</th>\n",
       "      <th>League</th>\n",
       "      <th>HomeTeam</th>\n",
       "      <th>AwayTeam</th>\n",
       "      <th>FTHG</th>\n",
       "      <th>FTAG</th>\n",
       "      <th>FTR</th>\n",
       "      <th>HTHG</th>\n",
       "      <th>HTAG</th>\n",
       "      <th>HTR</th>\n",
       "      <th>total_goals</th>\n",
       "      <th>home_team_win_HT</th>\n",
       "      <th>home_team_win_FT</th>\n",
       "    </tr>\n",
       "  </thead>\n",
       "  <tbody>\n",
       "    <tr>\n",
       "      <th>17</th>\n",
       "      <td>2019/2020</td>\n",
       "      <td>Spain</td>\n",
       "      <td>La Liga Primera Division</td>\n",
       "      <td>Eibar</td>\n",
       "      <td>Sociedad</td>\n",
       "      <td>1</td>\n",
       "      <td>2</td>\n",
       "      <td>A</td>\n",
       "      <td>0</td>\n",
       "      <td>1</td>\n",
       "      <td>A</td>\n",
       "      <td>3</td>\n",
       "      <td>0</td>\n",
       "      <td>1</td>\n",
       "    </tr>\n",
       "    <tr>\n",
       "      <th>43</th>\n",
       "      <td>2019/2020</td>\n",
       "      <td>Spain</td>\n",
       "      <td>La Liga Primera Division</td>\n",
       "      <td>Betis</td>\n",
       "      <td>Real Madrid</td>\n",
       "      <td>2</td>\n",
       "      <td>1</td>\n",
       "      <td>H</td>\n",
       "      <td>1</td>\n",
       "      <td>1</td>\n",
       "      <td>D</td>\n",
       "      <td>3</td>\n",
       "      <td>0</td>\n",
       "      <td>0</td>\n",
       "    </tr>\n",
       "    <tr>\n",
       "      <th>49</th>\n",
       "      <td>2019/2020</td>\n",
       "      <td>Spain</td>\n",
       "      <td>La Liga Primera Division</td>\n",
       "      <td>Villarreal</td>\n",
       "      <td>Leganes</td>\n",
       "      <td>1</td>\n",
       "      <td>2</td>\n",
       "      <td>A</td>\n",
       "      <td>1</td>\n",
       "      <td>0</td>\n",
       "      <td>H</td>\n",
       "      <td>3</td>\n",
       "      <td>1</td>\n",
       "      <td>1</td>\n",
       "    </tr>\n",
       "    <tr>\n",
       "      <th>65</th>\n",
       "      <td>2019/2020</td>\n",
       "      <td>Spain</td>\n",
       "      <td>La Liga Primera Division</td>\n",
       "      <td>Levante</td>\n",
       "      <td>Granada</td>\n",
       "      <td>1</td>\n",
       "      <td>1</td>\n",
       "      <td>D</td>\n",
       "      <td>1</td>\n",
       "      <td>0</td>\n",
       "      <td>H</td>\n",
       "      <td>2</td>\n",
       "      <td>1</td>\n",
       "      <td>0</td>\n",
       "    </tr>\n",
       "    <tr>\n",
       "      <th>85</th>\n",
       "      <td>2019/2020</td>\n",
       "      <td>Spain</td>\n",
       "      <td>La Liga Primera Division</td>\n",
       "      <td>Valladolid</td>\n",
       "      <td>Ath Bilbao</td>\n",
       "      <td>1</td>\n",
       "      <td>4</td>\n",
       "      <td>A</td>\n",
       "      <td>0</td>\n",
       "      <td>2</td>\n",
       "      <td>A</td>\n",
       "      <td>5</td>\n",
       "      <td>0</td>\n",
       "      <td>1</td>\n",
       "    </tr>\n",
       "  </tbody>\n",
       "</table>\n",
       "</div>"
      ],
      "text/plain": [
       "       Season Country                    League    HomeTeam     AwayTeam  \\\n",
       "17  2019/2020   Spain  La Liga Primera Division       Eibar     Sociedad   \n",
       "43  2019/2020   Spain  La Liga Primera Division       Betis  Real Madrid   \n",
       "49  2019/2020   Spain  La Liga Primera Division  Villarreal      Leganes   \n",
       "65  2019/2020   Spain  La Liga Primera Division     Levante      Granada   \n",
       "85  2019/2020   Spain  La Liga Primera Division  Valladolid   Ath Bilbao   \n",
       "\n",
       "    FTHG  FTAG FTR  HTHG  HTAG HTR  total_goals  home_team_win_HT  \\\n",
       "17     1     2   A     0     1   A            3                 0   \n",
       "43     2     1   H     1     1   D            3                 0   \n",
       "49     1     2   A     1     0   H            3                 1   \n",
       "65     1     1   D     1     0   H            2                 1   \n",
       "85     1     4   A     0     2   A            5                 0   \n",
       "\n",
       "    home_team_win_FT  \n",
       "17                 1  \n",
       "43                 0  \n",
       "49                 1  \n",
       "65                 0  \n",
       "85                 1  "
      ]
     },
     "execution_count": 25,
     "metadata": {},
     "output_type": "execute_result"
    }
   ],
   "source": [
    "matches_spain['home_team_win_HT'] = np.zeros\n",
    "matches_spain['home_team_win_FT'] = np.zeros\n",
    "\n",
    "# Half Time\n",
    "\n",
    "#WIN\n",
    "matches_spain['home_team_win_HT'].loc[matches_spain['HTHG'] > matches_spain['HTAG']] = 1\n",
    "#LOSS\n",
    "matches_spain['home_team_win_HT'].loc[matches_spain['HTHG'] < matches_spain['HTAG']] = 0\n",
    "#TIE\n",
    "matches_spain['home_team_win_HT'].loc[matches_spain['HTHG'] == matches_spain['HTAG']] = 0\n",
    "\n",
    "# Full Time\n",
    "\n",
    "#WIN\n",
    "matches_spain['home_team_win_FT'].loc[matches_spain['FTHG'] < matches_spain['FTAG']] = 1\n",
    "#LOSS\n",
    "matches_spain['home_team_win_FT'].loc[matches_spain['FTHG'] > matches_spain['FTAG']] = 0\n",
    "#TIE\n",
    "matches_spain['home_team_win_FT'].loc[matches_spain['FTHG'] == matches_spain['FTAG']] = 0\n",
    "\n",
    "matches_spain.head()"
   ]
  },
  {
   "cell_type": "code",
   "execution_count": 26,
   "metadata": {
    "ExecuteTime": {
     "end_time": "2020-03-29T00:07:38.050349Z",
     "start_time": "2020-03-29T00:07:38.047506Z"
    }
   },
   "outputs": [],
   "source": [
    "alpha = 0.05"
   ]
  },
  {
   "cell_type": "code",
   "execution_count": 27,
   "metadata": {
    "ExecuteTime": {
     "end_time": "2020-03-29T00:07:38.559840Z",
     "start_time": "2020-03-29T00:07:38.552134Z"
    }
   },
   "outputs": [
    {
     "data": {
      "text/plain": [
       "(8.805084223306038, 1.6090314112029296e-18)"
      ]
     },
     "execution_count": 27,
     "metadata": {},
     "output_type": "execute_result"
    }
   ],
   "source": [
    "home_goals_ht = matches_spain.home_team_win_HT\n",
    "away_goals_ft = matches_spain.home_team_win_FT\n",
    "\n",
    "ttest, pval = sp.stats.ttest_rel(home_goals_ht, away_goals_ft)\n",
    "ttest, pval"
   ]
  },
  {
   "cell_type": "markdown",
   "metadata": {},
   "source": [
    "- Como pvalue < 0.05 podemos rechazar la Null Hypothesis, por tanto rechazamos que el hecho de jugar como equipo local sea indiferente de cara a ganar el partido cuando al descanso iba perdiendo o empatando.\n",
    "- Dicho de otra manera, jugar como equipo local beneficia para ganar el partido si al descanso vas empatando o perdiendo."
   ]
  }
 ],
 "metadata": {
  "kernelspec": {
   "display_name": "Python 3",
   "language": "python",
   "name": "python3"
  },
  "language_info": {
   "codemirror_mode": {
    "name": "ipython",
    "version": 3
   },
   "file_extension": ".py",
   "mimetype": "text/x-python",
   "name": "python",
   "nbconvert_exporter": "python",
   "pygments_lexer": "ipython3",
   "version": "3.8.0"
  },
  "toc": {
   "base_numbering": 1,
   "nav_menu": {},
   "number_sections": true,
   "sideBar": true,
   "skip_h1_title": false,
   "title_cell": "Table of Contents",
   "title_sidebar": "Contents",
   "toc_cell": false,
   "toc_position": {},
   "toc_section_display": true,
   "toc_window_display": false
  },
  "varInspector": {
   "cols": {
    "lenName": 16,
    "lenType": 16,
    "lenVar": 40
   },
   "kernels_config": {
    "python": {
     "delete_cmd_postfix": "",
     "delete_cmd_prefix": "del ",
     "library": "var_list.py",
     "varRefreshCmd": "print(var_dic_list())"
    },
    "r": {
     "delete_cmd_postfix": ") ",
     "delete_cmd_prefix": "rm(",
     "library": "var_list.r",
     "varRefreshCmd": "cat(var_dic_list()) "
    }
   },
   "types_to_exclude": [
    "module",
    "function",
    "builtin_function_or_method",
    "instance",
    "_Feature"
   ],
   "window_display": false
  }
 },
 "nbformat": 4,
 "nbformat_minor": 2
}
